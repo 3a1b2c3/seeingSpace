{
  "cells": [
    {
      "cell_type": "code",
      "execution_count": 2,
      "metadata": {
        "id": "_VOZLv6d3KQ-"
      },
      "outputs": [],
      "source": [
        "#if your data is on goolge drive or you want to copy your results there mount it\n",
        "#from google.colab import drive\n",
        "#drive.mount('/content/drive')"
      ]
    },
    {
      "cell_type": "code",
      "execution_count": 3,
      "metadata": {
        "id": "QJC-0GitoJEh",
        "colab": {
          "base_uri": "https://localhost:8080/"
        },
        "outputId": "a512b20b-c293-4711-d9fd-2fb31f7a6ce2"
      },
      "outputs": [
        {
          "output_type": "stream",
          "name": "stdout",
          "text": [
            "Mon Jun 13 08:25:16 2022       \n",
            "+-----------------------------------------------------------------------------+\n",
            "| NVIDIA-SMI 460.32.03    Driver Version: 460.32.03    CUDA Version: 11.2     |\n",
            "|-------------------------------+----------------------+----------------------+\n",
            "| GPU  Name        Persistence-M| Bus-Id        Disp.A | Volatile Uncorr. ECC |\n",
            "| Fan  Temp  Perf  Pwr:Usage/Cap|         Memory-Usage | GPU-Util  Compute M. |\n",
            "|                               |                      |               MIG M. |\n",
            "|===============================+======================+======================|\n",
            "|   0  Tesla P100-PCIE...  Off  | 00000000:00:04.0 Off |                    0 |\n",
            "| N/A   36C    P0    27W / 250W |      0MiB / 16280MiB |      0%      Default |\n",
            "|                               |                      |                  N/A |\n",
            "+-------------------------------+----------------------+----------------------+\n",
            "                                                                               \n",
            "+-----------------------------------------------------------------------------+\n",
            "| Processes:                                                                  |\n",
            "|  GPU   GI   CI        PID   Type   Process name                  GPU Memory |\n",
            "|        ID   ID                                                   Usage      |\n",
            "|=============================================================================|\n",
            "|  No running processes found                                                 |\n",
            "+-----------------------------------------------------------------------------+\n"
          ]
        }
      ],
      "source": [
        "# https://github.com/yashbhalgat/HashNeRF-pytorch\n",
        "!nvidia-smi"
      ]
    },
    {
      "cell_type": "code",
      "execution_count": 3,
      "metadata": {
        "id": "lT_DEy7Q3FMc"
      },
      "outputs": [],
      "source": [
        ""
      ]
    },
    {
      "cell_type": "code",
      "execution_count": 4,
      "metadata": {
        "colab": {
          "base_uri": "https://localhost:8080/"
        },
        "id": "ijgdl-TUcxnd",
        "outputId": "40ea5bab-a939-4c0a-aa6a-7038aa91a188"
      },
      "outputs": [
        {
          "output_type": "stream",
          "name": "stdout",
          "text": [
            "Cloning into 'HashNeRF-pytorch'...\n",
            "remote: Enumerating objects: 268, done.\u001b[K\n",
            "remote: Total 268 (delta 0), reused 0 (delta 0), pack-reused 268\u001b[K\n",
            "Receiving objects: 100% (268/268), 36.97 MiB | 4.16 MiB/s, done.\n",
            "Resolving deltas: 100% (142/142), done.\n",
            "/content/HashNeRF-pytorch\n"
          ]
        }
      ],
      "source": [
        "!git clone --recursive https://github.com/yashbhalgat/HashNeRF-pytorch.git\n",
        "%cd HashNeRF-pytorch"
      ]
    },
    {
      "cell_type": "code",
      "execution_count": null,
      "metadata": {
        "id": "TRfrshaCdpY8"
      },
      "outputs": [],
      "source": [
        "#add dependencies\n",
        "!pip3 install -r https://raw.githubusercontent.com/3a1b2c3/seeingSpace/main/Experiments/Hashing/HashNerfPytorch/requirements.txt"
      ]
    },
    {
      "cell_type": "code",
      "execution_count": 28,
      "metadata": {
        "colab": {
          "base_uri": "https://localhost:8080/"
        },
        "id": "GCW1QLG9UFpJ",
        "outputId": "588e1153-fe23-45dc-96f0-3a80ff66eda4"
      },
      "outputs": [
        {
          "output_type": "stream",
          "name": "stdout",
          "text": [
            "/usr/local/lib/python3.7/dist-packages/gdown/cli.py:131: FutureWarning: Option `--id` was deprecated in version 4.3.1 and will be removed in 5.0. You don't need to pass it anymore to use a file ID.\n",
            "  category=FutureWarning,\n",
            "Access denied with the following error:\n",
            "\n",
            " \tCannot retrieve the public link of the file. You may need to change\n",
            "\tthe permission to 'Anyone with the link', or have had many accesses. \n",
            "\n",
            "You may still be able to access the file from the browser:\n",
            "\n",
            "\t https://drive.google.com/uc?id=https://drive.google.com/drive/folders/1JDdLGDruGNXWnM1eqY1FNL9PlStjaKWi \n",
            "\n"
          ]
        }
      ],
      "source": [
        "# data https://drive.google.com/drive/folders/1JDdLGDruGNXWnM1eqY1FNL9PlStjaKWi\n",
        "!gdown --id https://drive.google.com/drive/folders/1JDdLGDruGNXWnM1eqY1FNL9PlStjaKWi\n",
        "#!mv /content/HashNeRF-pytorch/1JDdLGDruGNXWnM1eqY1FNL9PlStjaKWi /content/HashNeRF-pytorch/data"
      ]
    },
    {
      "cell_type": "code",
      "execution_count": 26,
      "metadata": {
        "id": "aijHZB0zJwWB",
        "colab": {
          "base_uri": "https://localhost:8080/"
        },
        "outputId": "e37d7bd9-3220-4735-af05-578dfe4a097a"
      },
      "outputs": [
        {
          "output_type": "stream",
          "name": "stdout",
          "text": [
            "Traceback (most recent call last):\n",
            "  File \"/content/HashNeRF-pytorch/run_nerf.py\", line 962, in <module>\n",
            "    train()\n",
            "  File \"/content/HashNeRF-pytorch/run_nerf.py\", line 639, in train\n",
            "    images, poses, render_poses, hwf, i_split, bounding_box = load_blender_data(args.datadir, args.half_res, args.testskip)\n",
            "  File \"/content/HashNeRF-pytorch/load_blender.py\", line 42, in load_blender_data\n",
            "    with open(os.path.join(basedir, 'transforms_{}.json'.format(s)), 'r') as fp:\n",
            "FileNotFoundError: [Errno 2] No such file or directory: './data/nerf_synthetic/chair/transforms_train.json'\n"
          ]
        }
      ],
      "source": [
        "scene=\"configs/chair.txt\"\n",
        "screenshot_dir=\"/content/drive/MyDrisve/ColabNERF/fox/render\"\n",
        "snap=\"/content/drive/MyDrive/ColabNERF/fox/snap/fox_abb8.msgpack\"\n",
        "model0=\"/content/sample_data/render.obj\" \n",
        "width=512\n",
        "# to see commandline help\n",
        "!python /content/HashNeRF-pytorch/run_nerf.py --config configs/chair.txt --finest_res 512 --log2_hashmap_size 19 --lrate 0.01 --lrate_decay 10"
      ]
    }
  ],
  "metadata": {
    "accelerator": "GPU",
    "colab": {
      "collapsed_sections": [],
      "name": "hashNerf.ipynb",
      "provenance": []
    },
    "kernelspec": {
      "display_name": "Python 3",
      "name": "python3"
    },
    "language_info": {
      "name": "python"
    }
  },
  "nbformat": 4,
  "nbformat_minor": 0
}